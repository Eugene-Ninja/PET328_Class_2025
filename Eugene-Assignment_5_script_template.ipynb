{
 "cells": [
  {
   "cell_type": "markdown",
   "id": "c3e87412",
   "metadata": {},
   "source": [
    "## A script to classify and count 'active' and 'inactive' gridblocks in a discretized reservoir"
   ]
  },
  {
   "cell_type": "code",
   "execution_count": null,
   "id": "a53afb20",
   "metadata": {},
   "outputs": [],
   "source": [
    "#################### Task 1 ############################\n",
    "    # Request for reservoir dimensions and discretization parameters\n",
    "nx = int(input('Enter the number of rows in the x-direction'))\n",
    "ny = int(input('Enter the number of columns in the y-direction'))\n",
    "nz = int(input('Enter the number of layers'))"
   ]
  },
  {
   "cell_type": "code",
   "execution_count": null,
   "id": "559de93e",
   "metadata": {},
   "outputs": [],
   "source": [
    "#################### Task 2 ############################\n",
    "# Request for the cut-off value\n",
    "\n",
    "cut_off = float(input('Enter permeability cutoff value:'))"
   ]
  },
  {
   "cell_type": "code",
   "execution_count": null,
   "id": "81bee451",
   "metadata": {},
   "outputs": [],
   "source": [
    "#################### Task 3 ############################\n",
    "    # Initialize counters\n",
    "n_active = 0\n",
    "n_inactive = 0\n"
   ]
  },
  {
   "cell_type": "code",
   "execution_count": null,
   "id": "d40a907b-8f47-4b1f-81ac-b7f8bd0f2a3b",
   "metadata": {
    "scrolled": true
   },
   "outputs": [],
   "source": [
    "##### Task 4 ############################\n",
    "    # Loop through all blocks (nested loop)\n",
    "for k in range(1, nz+1):\n",
    "    # Initialize layer counter\n",
    "    n_active_layer = 0\n",
    "    print(f'Inputing the values of layer {k}')\n",
    "    \n",
    "    # Two nested loops go here\n",
    "    for j in range (nx):\n",
    "        for i in range (ny):\n",
    "            perm = int(input(f'Enter the permeability value of [row-{j+1}, column-{i+1}]\\n'))\n",
    "            if perm >= cut_off:\n",
    "                n_active = n_active + 1\n",
    "                n_active_layer = n_active_layer + 1\n",
    "            else:\n",
    "                n_inactive = n_inactive + 1\n",
    "                \n",
    "    # Print layer count\n",
    "    print(f'The number of active block in layer {k} is {n_active_layer}\\n')\n",
    "    "
   ]
  },
  {
   "cell_type": "code",
   "execution_count": null,
   "id": "08a0d348-686d-4b40-94fc-b1cc421b1086",
   "metadata": {},
   "outputs": [],
   "source": [
    "#################### Task 5 ############################\n",
    "    # Print overall counts\n",
    "total_gridblocks = n_active + n_inactive\n",
    "percent_active = (n_active/total_gridblocks)*100\n",
    "# Print 'active'\n",
    "print(f'The total number of active block is {n_active}')\n",
    "\n",
    "# Print 'inactive'\n",
    "print(f'The total number of inactive block is {n_inactive}')\n",
    "\n",
    "print(f'The percentage of active blocks is {percent_active} in the entire reservoir')"
   ]
  },
  {
   "cell_type": "code",
   "execution_count": null,
   "id": "a4bf7991-88f4-4927-86d1-29b24e3a91f2",
   "metadata": {},
   "outputs": [],
   "source": []
  }
 ],
 "metadata": {
  "kernelspec": {
   "display_name": "Python [conda env:base] *",
   "language": "python",
   "name": "conda-base-py"
  },
  "language_info": {
   "codemirror_mode": {
    "name": "ipython",
    "version": 3
   },
   "file_extension": ".py",
   "mimetype": "text/x-python",
   "name": "python",
   "nbconvert_exporter": "python",
   "pygments_lexer": "ipython3",
   "version": "3.12.7"
  }
 },
 "nbformat": 4,
 "nbformat_minor": 5
}
